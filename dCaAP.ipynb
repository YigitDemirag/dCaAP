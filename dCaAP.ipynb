{
 "cells": [
  {
   "cell_type": "code",
   "execution_count": 57,
   "metadata": {},
   "outputs": [],
   "source": [
    "import numpy as np\n",
    "import torch\n",
    "import torch.nn as nn\n",
    "import torch.nn.functional as F\n",
    "import matplotlib.pyplot as plt"
   ]
  },
  {
   "cell_type": "code",
   "execution_count": 58,
   "metadata": {},
   "outputs": [
    {
     "data": {
      "image/png": "[encoded data removed]",
      "text/plain": [
       "<Figure size 432x288 with 1 Axes>"
      ]
     },
     "metadata": {
      "needs_background": "light"
     },
     "output_type": "display_data"
    }
   ],
   "source": [
    "def dCaAP(x, th=0):\n",
    "    x = x - th\n",
    "    return 4*torch.sigmoid(x) * (1 - torch.sigmoid(x)) * (x>0).float()\n",
    "\n",
    "a = torch.linspace(-10,10,100)\n",
    "b = dCaAP(a, 0)\n",
    "plt.plot(a,b)\n",
    "plt.xlabel('Current injected to apical dendrite')\n",
    "plt.ylabel('dCaAP amplitude')\n",
    "plt.show()"
   ]
  },
  {
   "cell_type": "code",
   "execution_count": 59,
   "metadata": {},
   "outputs": [],
   "source": [
    "class Dendritic(nn.Module):\n",
    "    def __init__(self, in_features, out_features):\n",
    "        super(Dendritic, self).__init__()\n",
    "        \n",
    "        self.apical_synapses   = nn.Parameter(torch.Tensor(out_features, in_features)) #weights\n",
    "        self.bias              = nn.Parameter(torch.Tensor(out_features)) # bias in weights\n",
    "        self.apical_activation = dCaAP # apical activation function\n",
    "\n",
    "        #nn.init.constant_(self.apical_synapses, 1.) # initialization from ~N(0,std)\n",
    "        nn.init.normal_(self.apical_synapses, mean=0, std=1/np.sqrt(in_features))\n",
    "        nn.init.normal_(self.bias, mean=0, std=1/np.sqrt(in_features))\n",
    "\n",
    "                \n",
    "    def forward(self, x):\n",
    "        out = F.linear(x, self.apical_synapses, self.bias)\n",
    "        out = self.apical_activation(out)\n",
    "        return out"
   ]
  },
  {
   "cell_type": "code",
   "execution_count": 60,
   "metadata": {},
   "outputs": [],
   "source": [
    "# I/O for XOR task\n",
    "# Create input output for XOR problem\n",
    "train_size = 250\n",
    "test_size = 10\n",
    "\n",
    "inp_tr = [[0,0],[0,1],[1,0],[1,1]] * train_size\n",
    "out_tr = [[0],[1],[1],[0]] * train_size\n",
    "\n",
    "inp_te = [[0,0],[0,1],[1,0],[1,1]] * test_size\n",
    "out_te = [[0],[1],[1],[0]] * test_size\n",
    "\n",
    "\n",
    "train = [[torch.Tensor(inp_tr[i]), torch.Tensor(out_tr[i])] for i,h in enumerate(inp_tr)]\n",
    "test = [[torch.Tensor(inp_te[i]), torch.Tensor(out_te[i])] for i,h in enumerate(inp_te)]\n",
    "\n",
    "train_load = torch.utils.data.DataLoader(train, 16, shuffle=True, num_workers=1)\n",
    "test_load = torch.utils.data.DataLoader(test, 16, shuffle=True, num_workers=1)"
   ]
  },
  {
   "cell_type": "code",
   "execution_count": 61,
   "metadata": {},
   "outputs": [
    {
     "name": "stdout",
     "output_type": "stream",
     "text": [
      "Epoch [0/10], loss : 0.37\n",
      "Epoch [1/10], loss : 0.59\n",
      "Epoch [2/10], loss : 0.26\n",
      "Epoch [3/10], loss : 0.42\n",
      "Epoch [4/10], loss : 0.37\n",
      "Epoch [5/10], loss : 0.62\n",
      "Epoch [6/10], loss : 0.20\n",
      "Epoch [7/10], loss : 0.61\n",
      "Epoch [8/10], loss : 0.39\n",
      "Epoch [9/10], loss : 0.08\n"
     ]
    }
   ],
   "source": [
    "epochs = 10\n",
    "\n",
    "# Define network\n",
    "apical_dendrite = Dendritic(2, 1) # 2 input, 1 output\n",
    "\n",
    "# Defile loss\n",
    "criterion = torch.nn.MSELoss()\n",
    "\n",
    "# Define optimizer\n",
    "optim = torch.optim.Adam(apical_dendrite.parameters(), lr=0.001)\n",
    "\n",
    "# Training\n",
    "for epoch in range(epochs):\n",
    "    for i, (x, y) in enumerate(train_load):\n",
    "        \n",
    "        # Zero parameter gradients\n",
    "        optim.zero_grad()\n",
    "        \n",
    "        # Forward\n",
    "        yhat = apical_dendrite(x)\n",
    "        loss = criterion(yhat, y.float())\n",
    "\n",
    "        # Calculate gradient and update weights\n",
    "        loss.backward()\n",
    "        optim.step()\n",
    "    print('Epoch [{}/{}], loss : {:.2f}'.format(epoch,epochs,loss.data))"
   ]
  },
  {
   "cell_type": "code",
   "execution_count": 62,
   "metadata": {},
   "outputs": [
    {
     "name": "stdout",
     "output_type": "stream",
     "text": [
      "Test Accuracy of the model is : % 75 in 40 examples.\n"
     ]
    }
   ],
   "source": [
    "# Testing\n",
    "correct = 0\n",
    "for i, (x,y) in enumerate(test_load):\n",
    "    yhat = apical_dendrite(x)\n",
    "    correct += (y == (yhat > 0.5).float()).sum()\n",
    "\n",
    "tests = test_size * 4\n",
    "print('Test Accuracy of the model is : % {} in {} examples.'.format(100*correct/tests, tests))"
   ]
  }
 ],
 "metadata": {
  "kernelspec": {
   "display_name": "Python 3",
   "language": "python",
   "name": "python3"
  },
  "language_info": {
   "codemirror_mode": {
    "name": "ipython",
    "version": 3
   },
   "file_extension": ".py",
   "mimetype": "text/x-python",
   "name": "python",
   "nbconvert_exporter": "python",
   "pygments_lexer": "ipython3",
   "version": "3.6.10"
  }
 },
 "nbformat": 4,
 "nbformat_minor": 4
}
